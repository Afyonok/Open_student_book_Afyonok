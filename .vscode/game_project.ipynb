{
 "cells": [
  {
   "cell_type": "code",
   "execution_count": 2,
   "metadata": {},
   "outputs": [
    {
     "name": "stdout",
     "output_type": "stream",
     "text": [
      "Ваш алгоритм угадывает число в среднем за: 6 попытки\n"
     ]
    }
   ],
   "source": [
    "import numpy as np\n",
    "def random_predict(number) -> int:\n",
    "    \"\"\"Компьютер угадывает рандомное число\n",
    "    Args:\n",
    "        number (int, optional): Загаданное число.\n",
    "    Returns:\n",
    "        int: Число попыток\n",
    "    \"\"\"\n",
    "    predict_number = np.random.randint(1, 101) # загадываем рандомное число, используя генератор рандомных чисел\n",
    "    count = 0 # Переменная счетчик\n",
    "    mn = 1 # Минимальное значение рассматриваемого интервала\n",
    "    mx = 100 # Максимальное значение рассматриваемого интервала\n",
    "    while True:\n",
    "        count += 1\n",
    "        if predict_number > number:\n",
    "            mx = predict_number - 1\n",
    "            predict_number = (mx + mn) // 2\n",
    "        elif predict_number < number:\n",
    "            mn = predict_number + 1\n",
    "            predict_number = (mx + mn) // 2\n",
    "        else:\n",
    "            # print(f'Компьютер угадал загаданное число за {count} попыток. Это число {number}')\n",
    "            break # конец игры и выход из цикла\n",
    "    return(count)\n",
    "# print(f'Количество попыток: {random_predict(number)}')\n",
    "def score_game(random_predict) -> int:\n",
    "    \"\"\" За какое количество попыток в среднем за 1000 подходов угадывает наш алгоритм\n",
    "    Args:\n",
    "        random_predict ([type]): функция угадывания\n",
    "    Returns:\n",
    "        int: среднее количество попыток\n",
    "    \"\"\"\n",
    "    count_ls = []\n",
    "    np.random.seed(1)  # фиксируем сид для воспроизводимости\n",
    "    random_array = np.random.randint(1, 101, size=(1000))  # загадали список чисел\n",
    "    for number in random_array:\n",
    "        count_ls.append(random_predict(number))\n",
    "    score = int(np.mean(count_ls))\n",
    "    print(f\"Ваш алгоритм угадывает число в среднем за: {score} попытки\")\n",
    "\n",
    "score_game(random_predict)"
   ]
  }
 ],
 "metadata": {
  "kernelspec": {
   "display_name": "Python 3.9.10 64-bit",
   "language": "python",
   "name": "python3"
  },
  "language_info": {
   "codemirror_mode": {
    "name": "ipython",
    "version": 3
   },
   "file_extension": ".py",
   "mimetype": "text/x-python",
   "name": "python",
   "nbconvert_exporter": "python",
   "pygments_lexer": "ipython3",
   "version": "3.9.10"
  },
  "orig_nbformat": 4,
  "vscode": {
   "interpreter": {
    "hash": "cde33bbaa528d0b934f270cf6530414b0d9a4e30a829de04516f47d81c4e134e"
   }
  }
 },
 "nbformat": 4,
 "nbformat_minor": 2
}
